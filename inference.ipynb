{
 "cells": [
  {
   "cell_type": "code",
   "execution_count": 9,
   "metadata": {},
   "outputs": [],
   "source": [
    "from train import get_model, greedy_decode\n",
    "from dataset import get_source_tokenizer, get_target_tokenizer\n",
    "from config import get_config, get_weights_file_path\n",
    "from pathlib import Path\n",
    "import torch\n",
    "import warnings"
   ]
  },
  {
   "cell_type": "code",
   "execution_count": null,
   "metadata": {},
   "outputs": [],
   "source": [
    "def load_model_for_inference(config):\n",
    "    \"\"\"\n",
    "    Loads the Seq2SeqTransformer model with the latest weights for inference.\n",
    "\n",
    "    Args:\n",
    "        config (dict): Configuration dictionary containing model parameters.\n",
    "\n",
    "    Returns:\n",
    "        Seq2SeqTransformer: The model loaded with the latest weights.\n",
    "        Tokenizer: Source language tokenizer.\n",
    "        Tokenizer: Target language tokenizer.\n",
    "    \"\"\"\n",
    "    device = torch.device(\"cuda\" if torch.cuda.is_available() else \"cpu\")\n",
    "    source_tokenizer = get_source_tokenizer(config)\n",
    "    target_tokenizer = get_target_tokenizer(config)\n",
    "\n",
    "    model = get_model(\n",
    "        config, source_tokenizer.get_vocab_size(), target_tokenizer.get_vocab_size()\n",
    "    ).to(device)\n",
    "\n",
    "    model_filename = get_weights_file_path(config, \"latest\")\n",
    "    if Path(model_filename).exists():\n",
    "        print(f\"Loading model weights from {model_filename}\")\n",
    "        state = torch.load(model_filename, map_location=device)\n",
    "        model.load_state_dict(state[\"model_state_dict\"])\n",
    "    else:\n",
    "        raise FileNotFoundError(f\"No model weights found at {model_filename}\")\n",
    "\n",
    "    return model, source_tokenizer, target_tokenizer"
   ]
  },
  {
   "cell_type": "code",
   "execution_count": null,
   "metadata": {},
   "outputs": [],
   "source": [
    "def infer(model, source_sentence, source_tokenizer, target_tokenizer, config):\n",
    "    \"\"\"\n",
    "    Performs inference using the Seq2SeqTransformer model.\n",
    "\n",
    "    Args:\n",
    "        model (Seq2SeqTransformer): The trained Seq2SeqTransformer model.\n",
    "        source_sentence (str): The input sentence in the source language.\n",
    "        source_tokenizer (Tokenizer): Tokenizer for the source language.\n",
    "        target_tokenizer (Tokenizer): Tokenizer for the target language.\n",
    "        config (dict): Configuration dictionary containing model parameters.\n",
    "\n",
    "    Returns:\n",
    "        str: The translated sentence in the target language.\n",
    "    \"\"\"\n",
    "    device = torch.device(\"cuda\" if torch.cuda.is_available() else \"cpu\")\n",
    "    model.eval()\n",
    "\n",
    "    source_tokens = source_tokenizer.encode(source_sentence).ids\n",
    "    source_tensor = torch.tensor(source_tokens).unsqueeze(0).to(device)\n",
    "    source_mask = (source_tensor != source_tokenizer.token_to_id(\"<PAD>\")).unsqueeze(1).unsqueeze(2).to(device)\n",
    "\n",
    "    with torch.no_grad():\n",
    "        output_tokens = greedy_decode(\n",
    "            model, source_tensor, source_mask, target_tokenizer, config[\"max_len\"], device\n",
    "        )\n",
    "\n",
    "    translated_sentence = target_tokenizer.decode(output_tokens.cpu().numpy())\n",
    "    return translated_sentence\n"
   ]
  },
  {
   "cell_type": "code",
   "execution_count": null,
   "metadata": {},
   "outputs": [],
   "source": [
    "warnings.filterwarnings(\"ignore\")\n",
    "config = get_config()\n",
    "# Example inference\n",
    "model, source_tokenizer, target_tokenizer = load_model_for_inference(config)\n",
    "source_sentence = \"This is a test sentence.\"\n",
    "translated_sentence = infer(model, source_sentence, source_tokenizer, target_tokenizer, config)\n",
    "print(f\"Source: {source_sentence}\")\n",
    "print(f\"Translated: {translated_sentence}\")"
   ]
  }
 ],
 "metadata": {
  "kernelspec": {
   "display_name": "base",
   "language": "python",
   "name": "python3"
  },
  "language_info": {
   "codemirror_mode": {
    "name": "ipython",
    "version": 3
   },
   "file_extension": ".py",
   "mimetype": "text/x-python",
   "name": "python",
   "nbconvert_exporter": "python",
   "pygments_lexer": "ipython3",
   "version": "3.9.13"
  }
 },
 "nbformat": 4,
 "nbformat_minor": 2
}
